{
 "cells": [
  {
   "cell_type": "markdown",
   "id": "d553f0b8-edcf-40cf-9a88-0e8774ed4dba",
   "metadata": {},
   "source": [
    "# Imports"
   ]
  },
  {
   "cell_type": "code",
   "execution_count": 3,
   "id": "c281967d",
   "metadata": {},
   "outputs": [],
   "source": [
    "from flask import Flask, request, jsonify\n",
    "import joblib\n",
    "import numpy as np"
   ]
  },
  {
   "cell_type": "markdown",
   "id": "97260423-0d12-42a5-8a8d-aca67e1720bb",
   "metadata": {},
   "source": [
    "## API"
   ]
  },
  {
   "cell_type": "code",
   "execution_count": null,
   "id": "043fdac4-b1db-4ae1-86da-02565f281b2d",
   "metadata": {},
   "outputs": [],
   "source": [
    "from flask import Flask, request, jsonify\n",
    "import joblib\n",
    "app = Flask(__name__)\n",
    "\n",
    "model = joblib.load(\"model.joblib\")\n",
    "\n",
    "# Define a prediction function\n",
    "def return_prediction(content):\n",
    "    return model.predict([content])\n",
    "\n",
    "# Set up home page using basic html\n",
    "@app.route(\"/\")\n",
    "def index():\n",
    "    return \"\"\"\n",
    "    <h1>Welcome to our rain prediction service</h1>\n",
    "    To use this service, make a JSON post request to the /predict url with 5 climate model outputs.\n",
    "    \"\"\"\n",
    "\n",
    "@app.route('/predict', methods=['POST'])\n",
    "def rainfall_prediction():\n",
    "    content = request.json \n",
    "    prediction = return_prediction(content['data'])\n",
    "    results = {\n",
    "        \"prediction\": prediction[0]\n",
    "    } \n",
    "    return jsonify(results)"
   ]
  },
  {
   "cell_type": "markdown",
   "id": "42d02d5d",
   "metadata": {},
   "source": [
    "<image src=\"curl_deploy_sample.png\" />"
   ]
  }
 ],
 "metadata": {
  "kernelspec": {
   "display_name": "Python 3 (ipykernel)",
   "language": "python",
   "name": "python3"
  },
  "language_info": {
   "codemirror_mode": {
    "name": "ipython",
    "version": 3
   },
   "file_extension": ".py",
   "mimetype": "text/x-python",
   "name": "python",
   "nbconvert_exporter": "python",
   "pygments_lexer": "ipython3",
   "version": "3.10.6"
  },
  "vscode": {
   "interpreter": {
    "hash": "04169164d22e6c4be6191ef423ac86bcd59ab6849083682d987cca79592811e3"
   }
  }
 },
 "nbformat": 4,
 "nbformat_minor": 5
}
